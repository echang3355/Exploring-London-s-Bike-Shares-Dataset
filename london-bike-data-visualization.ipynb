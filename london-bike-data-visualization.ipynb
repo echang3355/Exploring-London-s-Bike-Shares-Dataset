{
 "cells": [
  {
   "cell_type": "code",
   "execution_count": 1,
   "id": "b62beb3c",
   "metadata": {
    "_cell_guid": "b1076dfc-b9ad-4769-8c92-a6c4dae69d19",
    "_uuid": "8f2839f25d086af736a60e9eeb907d3b93b6e0e5",
    "execution": {
     "iopub.execute_input": "2024-04-02T22:23:56.971627Z",
     "iopub.status.busy": "2024-04-02T22:23:56.970992Z",
     "iopub.status.idle": "2024-04-02T22:23:58.100320Z",
     "shell.execute_reply": "2024-04-02T22:23:58.098944Z"
    },
    "papermill": {
     "duration": 1.141467,
     "end_time": "2024-04-02T22:23:58.103765",
     "exception": false,
     "start_time": "2024-04-02T22:23:56.962298",
     "status": "completed"
    },
    "tags": []
   },
   "outputs": [
    {
     "name": "stdout",
     "output_type": "stream",
     "text": [
      "/kaggle/input/london-bike-sharing-dataset/london_merged.csv\n"
     ]
    }
   ],
   "source": [
    "# This Python 3 environment comes with many helpful analytics libraries installed\n",
    "# It is defined by the kaggle/python Docker image: https://github.com/kaggle/docker-python\n",
    "# For example, here's several helpful packages to load\n",
    "\n",
    "import numpy as np # linear algebra\n",
    "import pandas as pd # data processing, CSV file I/O (e.g. pd.read_csv)\n",
    "\n",
    "# Input data files are available in the read-only \"../input/\" directory\n",
    "# For example, running this (by clicking run or pressing Shift+Enter) will list all files under the input directory\n",
    "\n",
    "import os\n",
    "for dirname, _, filenames in os.walk('/kaggle/input'):\n",
    "    for filename in filenames:\n",
    "        print(os.path.join(dirname, filename))\n",
    "\n",
    "# You can write up to 20GB to the current directory (/kaggle/working/) that gets preserved as output when you create a version using \"Save & Run All\" \n",
    "# You can also write temporary files to /kaggle/temp/, but they won't be saved outside of the current session"
   ]
  },
  {
   "cell_type": "code",
   "execution_count": 2,
   "id": "89e0c1b7",
   "metadata": {
    "execution": {
     "iopub.execute_input": "2024-04-02T22:23:58.118942Z",
     "iopub.status.busy": "2024-04-02T22:23:58.118279Z",
     "iopub.status.idle": "2024-04-02T22:23:58.124908Z",
     "shell.execute_reply": "2024-04-02T22:23:58.123572Z"
    },
    "papermill": {
     "duration": 0.01709,
     "end_time": "2024-04-02T22:23:58.127537",
     "exception": false,
     "start_time": "2024-04-02T22:23:58.110447",
     "status": "completed"
    },
    "tags": []
   },
   "outputs": [],
   "source": [
    "import pandas as pd\n",
    "import numpy as np"
   ]
  },
  {
   "cell_type": "markdown",
   "id": "4b40be05",
   "metadata": {
    "papermill": {
     "duration": 0.005518,
     "end_time": "2024-04-02T22:23:58.139004",
     "exception": false,
     "start_time": "2024-04-02T22:23:58.133486",
     "status": "completed"
    },
    "tags": []
   },
   "source": [
    "# Read in and explore the data"
   ]
  },
  {
   "cell_type": "code",
   "execution_count": 3,
   "id": "503722ab",
   "metadata": {
    "execution": {
     "iopub.execute_input": "2024-04-02T22:23:58.153011Z",
     "iopub.status.busy": "2024-04-02T22:23:58.152491Z",
     "iopub.status.idle": "2024-04-02T22:23:58.227405Z",
     "shell.execute_reply": "2024-04-02T22:23:58.226213Z"
    },
    "papermill": {
     "duration": 0.085408,
     "end_time": "2024-04-02T22:23:58.230230",
     "exception": false,
     "start_time": "2024-04-02T22:23:58.144822",
     "status": "completed"
    },
    "tags": []
   },
   "outputs": [],
   "source": [
    "df = pd.read_csv('/kaggle/input/london-bike-sharing-dataset/london_merged.csv')"
   ]
  },
  {
   "cell_type": "code",
   "execution_count": 4,
   "id": "09c60ca5",
   "metadata": {
    "execution": {
     "iopub.execute_input": "2024-04-02T22:23:58.244449Z",
     "iopub.status.busy": "2024-04-02T22:23:58.243970Z",
     "iopub.status.idle": "2024-04-02T22:23:58.287677Z",
     "shell.execute_reply": "2024-04-02T22:23:58.286389Z"
    },
    "papermill": {
     "duration": 0.054677,
     "end_time": "2024-04-02T22:23:58.290728",
     "exception": false,
     "start_time": "2024-04-02T22:23:58.236051",
     "status": "completed"
    },
    "tags": []
   },
   "outputs": [
    {
     "name": "stdout",
     "output_type": "stream",
     "text": [
      "<class 'pandas.core.frame.DataFrame'>\n",
      "RangeIndex: 17414 entries, 0 to 17413\n",
      "Data columns (total 10 columns):\n",
      " #   Column        Non-Null Count  Dtype  \n",
      "---  ------        --------------  -----  \n",
      " 0   timestamp     17414 non-null  object \n",
      " 1   cnt           17414 non-null  int64  \n",
      " 2   t1            17414 non-null  float64\n",
      " 3   t2            17414 non-null  float64\n",
      " 4   hum           17414 non-null  float64\n",
      " 5   wind_speed    17414 non-null  float64\n",
      " 6   weather_code  17414 non-null  float64\n",
      " 7   is_holiday    17414 non-null  float64\n",
      " 8   is_weekend    17414 non-null  float64\n",
      " 9   season        17414 non-null  float64\n",
      "dtypes: float64(8), int64(1), object(1)\n",
      "memory usage: 1.3+ MB\n"
     ]
    }
   ],
   "source": [
    "# explore the data\n",
    "df.info()"
   ]
  },
  {
   "cell_type": "code",
   "execution_count": 5,
   "id": "0b365000",
   "metadata": {
    "execution": {
     "iopub.execute_input": "2024-04-02T22:23:58.306300Z",
     "iopub.status.busy": "2024-04-02T22:23:58.304868Z",
     "iopub.status.idle": "2024-04-02T22:23:58.314966Z",
     "shell.execute_reply": "2024-04-02T22:23:58.313522Z"
    },
    "papermill": {
     "duration": 0.020773,
     "end_time": "2024-04-02T22:23:58.317733",
     "exception": false,
     "start_time": "2024-04-02T22:23:58.296960",
     "status": "completed"
    },
    "tags": []
   },
   "outputs": [
    {
     "data": {
      "text/plain": [
       "(17414, 10)"
      ]
     },
     "execution_count": 5,
     "metadata": {},
     "output_type": "execute_result"
    }
   ],
   "source": [
    "df.shape"
   ]
  },
  {
   "cell_type": "code",
   "execution_count": 6,
   "id": "5332870b",
   "metadata": {
    "execution": {
     "iopub.execute_input": "2024-04-02T22:23:58.333222Z",
     "iopub.status.busy": "2024-04-02T22:23:58.332749Z",
     "iopub.status.idle": "2024-04-02T22:23:58.369582Z",
     "shell.execute_reply": "2024-04-02T22:23:58.368145Z"
    },
    "papermill": {
     "duration": 0.048289,
     "end_time": "2024-04-02T22:23:58.372493",
     "exception": false,
     "start_time": "2024-04-02T22:23:58.324204",
     "status": "completed"
    },
    "tags": []
   },
   "outputs": [
    {
     "data": {
      "text/html": [
       "<div>\n",
       "<style scoped>\n",
       "    .dataframe tbody tr th:only-of-type {\n",
       "        vertical-align: middle;\n",
       "    }\n",
       "\n",
       "    .dataframe tbody tr th {\n",
       "        vertical-align: top;\n",
       "    }\n",
       "\n",
       "    .dataframe thead th {\n",
       "        text-align: right;\n",
       "    }\n",
       "</style>\n",
       "<table border=\"1\" class=\"dataframe\">\n",
       "  <thead>\n",
       "    <tr style=\"text-align: right;\">\n",
       "      <th></th>\n",
       "      <th>timestamp</th>\n",
       "      <th>cnt</th>\n",
       "      <th>t1</th>\n",
       "      <th>t2</th>\n",
       "      <th>hum</th>\n",
       "      <th>wind_speed</th>\n",
       "      <th>weather_code</th>\n",
       "      <th>is_holiday</th>\n",
       "      <th>is_weekend</th>\n",
       "      <th>season</th>\n",
       "    </tr>\n",
       "  </thead>\n",
       "  <tbody>\n",
       "    <tr>\n",
       "      <th>0</th>\n",
       "      <td>2015-01-04 00:00:00</td>\n",
       "      <td>182</td>\n",
       "      <td>3.0</td>\n",
       "      <td>2.0</td>\n",
       "      <td>93.0</td>\n",
       "      <td>6.0</td>\n",
       "      <td>3.0</td>\n",
       "      <td>0.0</td>\n",
       "      <td>1.0</td>\n",
       "      <td>3.0</td>\n",
       "    </tr>\n",
       "    <tr>\n",
       "      <th>1</th>\n",
       "      <td>2015-01-04 01:00:00</td>\n",
       "      <td>138</td>\n",
       "      <td>3.0</td>\n",
       "      <td>2.5</td>\n",
       "      <td>93.0</td>\n",
       "      <td>5.0</td>\n",
       "      <td>1.0</td>\n",
       "      <td>0.0</td>\n",
       "      <td>1.0</td>\n",
       "      <td>3.0</td>\n",
       "    </tr>\n",
       "    <tr>\n",
       "      <th>2</th>\n",
       "      <td>2015-01-04 02:00:00</td>\n",
       "      <td>134</td>\n",
       "      <td>2.5</td>\n",
       "      <td>2.5</td>\n",
       "      <td>96.5</td>\n",
       "      <td>0.0</td>\n",
       "      <td>1.0</td>\n",
       "      <td>0.0</td>\n",
       "      <td>1.0</td>\n",
       "      <td>3.0</td>\n",
       "    </tr>\n",
       "    <tr>\n",
       "      <th>3</th>\n",
       "      <td>2015-01-04 03:00:00</td>\n",
       "      <td>72</td>\n",
       "      <td>2.0</td>\n",
       "      <td>2.0</td>\n",
       "      <td>100.0</td>\n",
       "      <td>0.0</td>\n",
       "      <td>1.0</td>\n",
       "      <td>0.0</td>\n",
       "      <td>1.0</td>\n",
       "      <td>3.0</td>\n",
       "    </tr>\n",
       "    <tr>\n",
       "      <th>4</th>\n",
       "      <td>2015-01-04 04:00:00</td>\n",
       "      <td>47</td>\n",
       "      <td>2.0</td>\n",
       "      <td>0.0</td>\n",
       "      <td>93.0</td>\n",
       "      <td>6.5</td>\n",
       "      <td>1.0</td>\n",
       "      <td>0.0</td>\n",
       "      <td>1.0</td>\n",
       "      <td>3.0</td>\n",
       "    </tr>\n",
       "    <tr>\n",
       "      <th>...</th>\n",
       "      <td>...</td>\n",
       "      <td>...</td>\n",
       "      <td>...</td>\n",
       "      <td>...</td>\n",
       "      <td>...</td>\n",
       "      <td>...</td>\n",
       "      <td>...</td>\n",
       "      <td>...</td>\n",
       "      <td>...</td>\n",
       "      <td>...</td>\n",
       "    </tr>\n",
       "    <tr>\n",
       "      <th>17409</th>\n",
       "      <td>2017-01-03 19:00:00</td>\n",
       "      <td>1042</td>\n",
       "      <td>5.0</td>\n",
       "      <td>1.0</td>\n",
       "      <td>81.0</td>\n",
       "      <td>19.0</td>\n",
       "      <td>3.0</td>\n",
       "      <td>0.0</td>\n",
       "      <td>0.0</td>\n",
       "      <td>3.0</td>\n",
       "    </tr>\n",
       "    <tr>\n",
       "      <th>17410</th>\n",
       "      <td>2017-01-03 20:00:00</td>\n",
       "      <td>541</td>\n",
       "      <td>5.0</td>\n",
       "      <td>1.0</td>\n",
       "      <td>81.0</td>\n",
       "      <td>21.0</td>\n",
       "      <td>4.0</td>\n",
       "      <td>0.0</td>\n",
       "      <td>0.0</td>\n",
       "      <td>3.0</td>\n",
       "    </tr>\n",
       "    <tr>\n",
       "      <th>17411</th>\n",
       "      <td>2017-01-03 21:00:00</td>\n",
       "      <td>337</td>\n",
       "      <td>5.5</td>\n",
       "      <td>1.5</td>\n",
       "      <td>78.5</td>\n",
       "      <td>24.0</td>\n",
       "      <td>4.0</td>\n",
       "      <td>0.0</td>\n",
       "      <td>0.0</td>\n",
       "      <td>3.0</td>\n",
       "    </tr>\n",
       "    <tr>\n",
       "      <th>17412</th>\n",
       "      <td>2017-01-03 22:00:00</td>\n",
       "      <td>224</td>\n",
       "      <td>5.5</td>\n",
       "      <td>1.5</td>\n",
       "      <td>76.0</td>\n",
       "      <td>23.0</td>\n",
       "      <td>4.0</td>\n",
       "      <td>0.0</td>\n",
       "      <td>0.0</td>\n",
       "      <td>3.0</td>\n",
       "    </tr>\n",
       "    <tr>\n",
       "      <th>17413</th>\n",
       "      <td>2017-01-03 23:00:00</td>\n",
       "      <td>139</td>\n",
       "      <td>5.0</td>\n",
       "      <td>1.0</td>\n",
       "      <td>76.0</td>\n",
       "      <td>22.0</td>\n",
       "      <td>2.0</td>\n",
       "      <td>0.0</td>\n",
       "      <td>0.0</td>\n",
       "      <td>3.0</td>\n",
       "    </tr>\n",
       "  </tbody>\n",
       "</table>\n",
       "<p>17414 rows × 10 columns</p>\n",
       "</div>"
      ],
      "text/plain": [
       "                 timestamp   cnt   t1   t2    hum  wind_speed  weather_code  \\\n",
       "0      2015-01-04 00:00:00   182  3.0  2.0   93.0         6.0           3.0   \n",
       "1      2015-01-04 01:00:00   138  3.0  2.5   93.0         5.0           1.0   \n",
       "2      2015-01-04 02:00:00   134  2.5  2.5   96.5         0.0           1.0   \n",
       "3      2015-01-04 03:00:00    72  2.0  2.0  100.0         0.0           1.0   \n",
       "4      2015-01-04 04:00:00    47  2.0  0.0   93.0         6.5           1.0   \n",
       "...                    ...   ...  ...  ...    ...         ...           ...   \n",
       "17409  2017-01-03 19:00:00  1042  5.0  1.0   81.0        19.0           3.0   \n",
       "17410  2017-01-03 20:00:00   541  5.0  1.0   81.0        21.0           4.0   \n",
       "17411  2017-01-03 21:00:00   337  5.5  1.5   78.5        24.0           4.0   \n",
       "17412  2017-01-03 22:00:00   224  5.5  1.5   76.0        23.0           4.0   \n",
       "17413  2017-01-03 23:00:00   139  5.0  1.0   76.0        22.0           2.0   \n",
       "\n",
       "       is_holiday  is_weekend  season  \n",
       "0             0.0         1.0     3.0  \n",
       "1             0.0         1.0     3.0  \n",
       "2             0.0         1.0     3.0  \n",
       "3             0.0         1.0     3.0  \n",
       "4             0.0         1.0     3.0  \n",
       "...           ...         ...     ...  \n",
       "17409         0.0         0.0     3.0  \n",
       "17410         0.0         0.0     3.0  \n",
       "17411         0.0         0.0     3.0  \n",
       "17412         0.0         0.0     3.0  \n",
       "17413         0.0         0.0     3.0  \n",
       "\n",
       "[17414 rows x 10 columns]"
      ]
     },
     "execution_count": 6,
     "metadata": {},
     "output_type": "execute_result"
    }
   ],
   "source": [
    "df"
   ]
  },
  {
   "cell_type": "code",
   "execution_count": 7,
   "id": "9b111804",
   "metadata": {
    "execution": {
     "iopub.execute_input": "2024-04-02T22:23:58.388882Z",
     "iopub.status.busy": "2024-04-02T22:23:58.387865Z",
     "iopub.status.idle": "2024-04-02T22:23:58.399412Z",
     "shell.execute_reply": "2024-04-02T22:23:58.398542Z"
    },
    "papermill": {
     "duration": 0.022188,
     "end_time": "2024-04-02T22:23:58.401469",
     "exception": false,
     "start_time": "2024-04-02T22:23:58.379281",
     "status": "completed"
    },
    "tags": []
   },
   "outputs": [
    {
     "data": {
      "text/plain": [
       "weather_code\n",
       "1.0     6150\n",
       "2.0     4034\n",
       "3.0     3551\n",
       "7.0     2141\n",
       "4.0     1464\n",
       "26.0      60\n",
       "10.0      14\n",
       "Name: count, dtype: int64"
      ]
     },
     "execution_count": 7,
     "metadata": {},
     "output_type": "execute_result"
    }
   ],
   "source": [
    "# count the unique values in the weather_code column\n",
    "df.weather_code.value_counts()"
   ]
  },
  {
   "cell_type": "code",
   "execution_count": 8,
   "id": "ca14331d",
   "metadata": {
    "execution": {
     "iopub.execute_input": "2024-04-02T22:23:58.417070Z",
     "iopub.status.busy": "2024-04-02T22:23:58.416694Z",
     "iopub.status.idle": "2024-04-02T22:23:58.426082Z",
     "shell.execute_reply": "2024-04-02T22:23:58.424956Z"
    },
    "papermill": {
     "duration": 0.020409,
     "end_time": "2024-04-02T22:23:58.428760",
     "exception": false,
     "start_time": "2024-04-02T22:23:58.408351",
     "status": "completed"
    },
    "tags": []
   },
   "outputs": [
    {
     "data": {
      "text/plain": [
       "season\n",
       "0.0    4394\n",
       "1.0    4387\n",
       "3.0    4330\n",
       "2.0    4303\n",
       "Name: count, dtype: int64"
      ]
     },
     "execution_count": 8,
     "metadata": {},
     "output_type": "execute_result"
    }
   ],
   "source": [
    "# count the unique values in the season column\n",
    "df.season.value_counts()"
   ]
  },
  {
   "cell_type": "markdown",
   "id": "f40f208b",
   "metadata": {
    "papermill": {
     "duration": 0.006867,
     "end_time": "2024-04-02T22:23:58.442786",
     "exception": false,
     "start_time": "2024-04-02T22:23:58.435919",
     "status": "completed"
    },
    "tags": []
   },
   "source": [
    "# Clean and organize data"
   ]
  },
  {
   "cell_type": "code",
   "execution_count": 9,
   "id": "373d7203",
   "metadata": {
    "execution": {
     "iopub.execute_input": "2024-04-02T22:23:58.459529Z",
     "iopub.status.busy": "2024-04-02T22:23:58.459142Z",
     "iopub.status.idle": "2024-04-02T22:23:58.660266Z",
     "shell.execute_reply": "2024-04-02T22:23:58.659400Z"
    },
    "papermill": {
     "duration": 0.213245,
     "end_time": "2024-04-02T22:23:58.663144",
     "exception": false,
     "start_time": "2024-04-02T22:23:58.449899",
     "status": "completed"
    },
    "tags": []
   },
   "outputs": [],
   "source": [
    "# identify columns names I want to use\n",
    "new_cols_dict = {\n",
    "    'timestamp' : 'time',\n",
    "    'cnt' : 'count',\n",
    "    't1' : 'real_temp_C',\n",
    "    't2' : 'feels_like_temp_C',\n",
    "    'hum' : 'humidity_percent',\n",
    "    'wind_speed' : 'wind_speed_kph',\n",
    "    'weather_code' : 'weather',\n",
    "    'is_holiday' : 'is_holiday',\n",
    "    'is_weekend' : 'is_weekend',\n",
    "    'season' : 'season'\n",
    "}\n",
    "\n",
    "# Rename the column names and save to csv\n",
    "df = df.rename(columns = new_cols_dict)\n",
    "df.to_csv(\"london_merged.csv\", index = True)"
   ]
  },
  {
   "cell_type": "code",
   "execution_count": 10,
   "id": "11ec7a04",
   "metadata": {
    "execution": {
     "iopub.execute_input": "2024-04-02T22:23:58.679624Z",
     "iopub.status.busy": "2024-04-02T22:23:58.678954Z",
     "iopub.status.idle": "2024-04-02T22:23:58.684831Z",
     "shell.execute_reply": "2024-04-02T22:23:58.683705Z"
    },
    "papermill": {
     "duration": 0.017007,
     "end_time": "2024-04-02T22:23:58.687301",
     "exception": false,
     "start_time": "2024-04-02T22:23:58.670294",
     "status": "completed"
    },
    "tags": []
   },
   "outputs": [],
   "source": [
    "# create a season dictionary to map integers 0-3 to actual written values\n",
    "season_dict = {\n",
    "    '0,0' : 'spring',\n",
    "    '1.0' : 'summer',\n",
    "    '2.0' : 'autumn',\n",
    "    '3.0' : 'winter'\n",
    "}\n",
    "\n",
    "# create a weather dicitionary to map intergers to actual written values\n",
    "weather_dict = {\n",
    "    '1.0' : 'Clear',\n",
    "    '2.0' : 'Scattered clouds',\n",
    "    '3.0' : 'Broken clouds',\n",
    "    '4.0' : 'Cloudy',\n",
    "    '7.0' : 'Rain',\n",
    "    '10.0' : 'Rain with thunderstorm',\n",
    "    '26.0' : 'Snowfall'\n",
    "}"
   ]
  },
  {
   "cell_type": "code",
   "execution_count": 11,
   "id": "f7b3648d",
   "metadata": {
    "execution": {
     "iopub.execute_input": "2024-04-02T22:23:58.703090Z",
     "iopub.status.busy": "2024-04-02T22:23:58.702631Z",
     "iopub.status.idle": "2024-04-02T22:23:58.747521Z",
     "shell.execute_reply": "2024-04-02T22:23:58.745876Z"
    },
    "papermill": {
     "duration": 0.056429,
     "end_time": "2024-04-02T22:23:58.750713",
     "exception": false,
     "start_time": "2024-04-02T22:23:58.694284",
     "status": "completed"
    },
    "tags": []
   },
   "outputs": [],
   "source": [
    "# change the seasons column data type to string\n",
    "df.season = df.season.astype('str')\n",
    "# map the values 0-3 to the actual written seasons\n",
    "df.season = df.season.map(season_dict)\n",
    "\n",
    "#change the weather column data type to string\n",
    "df.weather = df.weather.astype('str')\n",
    "# map the values to the actual written weathers\n",
    "df.weather = df.weather.map(weather_dict)"
   ]
  },
  {
   "cell_type": "code",
   "execution_count": 12,
   "id": "562b4f2c",
   "metadata": {
    "execution": {
     "iopub.execute_input": "2024-04-02T22:23:58.767893Z",
     "iopub.status.busy": "2024-04-02T22:23:58.766595Z",
     "iopub.status.idle": "2024-04-02T22:23:58.788024Z",
     "shell.execute_reply": "2024-04-02T22:23:58.786475Z"
    },
    "papermill": {
     "duration": 0.033352,
     "end_time": "2024-04-02T22:23:58.791163",
     "exception": false,
     "start_time": "2024-04-02T22:23:58.757811",
     "status": "completed"
    },
    "tags": []
   },
   "outputs": [
    {
     "data": {
      "text/html": [
       "<div>\n",
       "<style scoped>\n",
       "    .dataframe tbody tr th:only-of-type {\n",
       "        vertical-align: middle;\n",
       "    }\n",
       "\n",
       "    .dataframe tbody tr th {\n",
       "        vertical-align: top;\n",
       "    }\n",
       "\n",
       "    .dataframe thead th {\n",
       "        text-align: right;\n",
       "    }\n",
       "</style>\n",
       "<table border=\"1\" class=\"dataframe\">\n",
       "  <thead>\n",
       "    <tr style=\"text-align: right;\">\n",
       "      <th></th>\n",
       "      <th>time</th>\n",
       "      <th>count</th>\n",
       "      <th>real_temp_C</th>\n",
       "      <th>feels_like_temp_C</th>\n",
       "      <th>humidity_percent</th>\n",
       "      <th>wind_speed_kph</th>\n",
       "      <th>weather</th>\n",
       "      <th>is_holiday</th>\n",
       "      <th>is_weekend</th>\n",
       "      <th>season</th>\n",
       "    </tr>\n",
       "  </thead>\n",
       "  <tbody>\n",
       "    <tr>\n",
       "      <th>0</th>\n",
       "      <td>2015-01-04 00:00:00</td>\n",
       "      <td>182</td>\n",
       "      <td>3.0</td>\n",
       "      <td>2.0</td>\n",
       "      <td>93.0</td>\n",
       "      <td>6.0</td>\n",
       "      <td>Broken clouds</td>\n",
       "      <td>0.0</td>\n",
       "      <td>1.0</td>\n",
       "      <td>winter</td>\n",
       "    </tr>\n",
       "    <tr>\n",
       "      <th>1</th>\n",
       "      <td>2015-01-04 01:00:00</td>\n",
       "      <td>138</td>\n",
       "      <td>3.0</td>\n",
       "      <td>2.5</td>\n",
       "      <td>93.0</td>\n",
       "      <td>5.0</td>\n",
       "      <td>Clear</td>\n",
       "      <td>0.0</td>\n",
       "      <td>1.0</td>\n",
       "      <td>winter</td>\n",
       "    </tr>\n",
       "    <tr>\n",
       "      <th>2</th>\n",
       "      <td>2015-01-04 02:00:00</td>\n",
       "      <td>134</td>\n",
       "      <td>2.5</td>\n",
       "      <td>2.5</td>\n",
       "      <td>96.5</td>\n",
       "      <td>0.0</td>\n",
       "      <td>Clear</td>\n",
       "      <td>0.0</td>\n",
       "      <td>1.0</td>\n",
       "      <td>winter</td>\n",
       "    </tr>\n",
       "    <tr>\n",
       "      <th>3</th>\n",
       "      <td>2015-01-04 03:00:00</td>\n",
       "      <td>72</td>\n",
       "      <td>2.0</td>\n",
       "      <td>2.0</td>\n",
       "      <td>100.0</td>\n",
       "      <td>0.0</td>\n",
       "      <td>Clear</td>\n",
       "      <td>0.0</td>\n",
       "      <td>1.0</td>\n",
       "      <td>winter</td>\n",
       "    </tr>\n",
       "    <tr>\n",
       "      <th>4</th>\n",
       "      <td>2015-01-04 04:00:00</td>\n",
       "      <td>47</td>\n",
       "      <td>2.0</td>\n",
       "      <td>0.0</td>\n",
       "      <td>93.0</td>\n",
       "      <td>6.5</td>\n",
       "      <td>Clear</td>\n",
       "      <td>0.0</td>\n",
       "      <td>1.0</td>\n",
       "      <td>winter</td>\n",
       "    </tr>\n",
       "  </tbody>\n",
       "</table>\n",
       "</div>"
      ],
      "text/plain": [
       "                  time  count  real_temp_C  feels_like_temp_C  \\\n",
       "0  2015-01-04 00:00:00    182          3.0                2.0   \n",
       "1  2015-01-04 01:00:00    138          3.0                2.5   \n",
       "2  2015-01-04 02:00:00    134          2.5                2.5   \n",
       "3  2015-01-04 03:00:00     72          2.0                2.0   \n",
       "4  2015-01-04 04:00:00     47          2.0                0.0   \n",
       "\n",
       "   humidity_percent  wind_speed_kph        weather  is_holiday  is_weekend  \\\n",
       "0              93.0             6.0  Broken clouds         0.0         1.0   \n",
       "1              93.0             5.0          Clear         0.0         1.0   \n",
       "2              96.5             0.0          Clear         0.0         1.0   \n",
       "3             100.0             0.0          Clear         0.0         1.0   \n",
       "4              93.0             6.5          Clear         0.0         1.0   \n",
       "\n",
       "   season  \n",
       "0  winter  \n",
       "1  winter  \n",
       "2  winter  \n",
       "3  winter  \n",
       "4  winter  "
      ]
     },
     "execution_count": 12,
     "metadata": {},
     "output_type": "execute_result"
    }
   ],
   "source": [
    "# check to see if the mappings worked\n",
    "df.head()"
   ]
  },
  {
   "cell_type": "code",
   "execution_count": 13,
   "id": "205e367e",
   "metadata": {
    "execution": {
     "iopub.execute_input": "2024-04-02T22:23:58.808466Z",
     "iopub.status.busy": "2024-04-02T22:23:58.807674Z",
     "iopub.status.idle": "2024-04-02T22:23:58.981129Z",
     "shell.execute_reply": "2024-04-02T22:23:58.979927Z"
    },
    "papermill": {
     "duration": 0.185831,
     "end_time": "2024-04-02T22:23:58.984388",
     "exception": false,
     "start_time": "2024-04-02T22:23:58.798557",
     "status": "completed"
    },
    "tags": []
   },
   "outputs": [],
   "source": [
    "# save all changes to csv for Tableau visualization\n",
    "df.to_csv(\"london_bikes_final.csv\", index = True)"
   ]
  }
 ],
 "metadata": {
  "kaggle": {
   "accelerator": "none",
   "dataSources": [
    {
     "datasetId": 376751,
     "sourceId": 731448,
     "sourceType": "datasetVersion"
    }
   ],
   "dockerImageVersionId": 30646,
   "isGpuEnabled": false,
   "isInternetEnabled": false,
   "language": "python",
   "sourceType": "notebook"
  },
  "kernelspec": {
   "display_name": "Python 3",
   "language": "python",
   "name": "python3"
  },
  "language_info": {
   "codemirror_mode": {
    "name": "ipython",
    "version": 3
   },
   "file_extension": ".py",
   "mimetype": "text/x-python",
   "name": "python",
   "nbconvert_exporter": "python",
   "pygments_lexer": "ipython3",
   "version": "3.10.13"
  },
  "papermill": {
   "default_parameters": {},
   "duration": 6.18781,
   "end_time": "2024-04-02T22:23:59.716530",
   "environment_variables": {},
   "exception": null,
   "input_path": "__notebook__.ipynb",
   "output_path": "__notebook__.ipynb",
   "parameters": {},
   "start_time": "2024-04-02T22:23:53.528720",
   "version": "2.5.0"
  }
 },
 "nbformat": 4,
 "nbformat_minor": 5
}
